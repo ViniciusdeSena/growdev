{
  "nbformat": 4,
  "nbformat_minor": 0,
  "metadata": {
    "colab": {
      "provenance": [],
      "authorship_tag": "ABX9TyNJI8Q+FrAwhQND+D/YV7cy",
      "include_colab_link": true
    },
    "kernelspec": {
      "name": "python3",
      "display_name": "Python 3"
    },
    "language_info": {
      "name": "python"
    }
  },
  "cells": [
    {
      "cell_type": "markdown",
      "metadata": {
        "id": "view-in-github",
        "colab_type": "text"
      },
      "source": [
        "<a href=\"https://colab.research.google.com/github/ViniciusdeSena/growdev/blob/main/Execicios_04_06_24_Carlos_Costa.ipynb\" target=\"_parent\"><img src=\"https://colab.research.google.com/assets/colab-badge.svg\" alt=\"Open In Colab\"/></a>"
      ]
    },
    {
      "cell_type": "markdown",
      "source": [
        "1 - Conversão de graus Celsius para Fahrenheit – Crie um programa que converta graus\n",
        "Celsius em Fahrenheit. A fórmula é a seguinte:\n",
        "\n",
        "F = 9\n",
        "— C + 32\n",
        "5\n",
        "\n",
        "O programa deve solicitar ao usuário que insira uma temperatura em graus Celsius e, em\n",
        "seguida, exiba a temperatura convertida em Fahrenheit. Após construir esse programa,\n",
        "modifique-o para que converta graus Fahrenheit em graus Celsius."
      ],
      "metadata": {
        "id": "Vr7FM0apPfjl"
      }
    },
    {
      "cell_type": "code",
      "execution_count": null,
      "metadata": {
        "colab": {
          "base_uri": "https://localhost:8080/"
        },
        "id": "XJOgbEMyN_L1",
        "outputId": "9a5681dd-ff4b-4073-98ad-a1808cbe33f2"
      },
      "outputs": [
        {
          "output_type": "stream",
          "name": "stdout",
          "text": [
            "Informe a temperatura em Celsius: 10\n",
            "A temperatura em fahrenheit é: 50.0\n"
          ]
        }
      ],
      "source": [
        "c = float(input('Informe a temperatura em Celsius: '))\n",
        "f = 9/5*c+32\n",
        "print(f'A temperatura em fahrenheit é: {f}')"
      ]
    },
    {
      "cell_type": "markdown",
      "source": [
        "2- Escreva um programa que receba um número e escreva “Par” caso esse número seja par\n",
        "e escreva “Impar” caso esse número seja impar.\n",
        "\n"
      ],
      "metadata": {
        "id": "6jNkqGDyPzBq"
      }
    },
    {
      "cell_type": "code",
      "source": [
        "num = int(input('Escreva um número: '))\n",
        "if num%2 == 0:\n",
        "  print(f'O número {num} é par')\n",
        "else:\n",
        "  print(f'O número {num} é impar')"
      ],
      "metadata": {
        "colab": {
          "base_uri": "https://localhost:8080/"
        },
        "id": "392YrgJVP32l",
        "outputId": "30a67361-8326-4ea2-f9aa-312c121946ff"
      },
      "execution_count": null,
      "outputs": [
        {
          "output_type": "stream",
          "name": "stdout",
          "text": [
            "Escreva um número: 31\n",
            "O número 31 é impar\n"
          ]
        }
      ]
    },
    {
      "cell_type": "markdown",
      "source": [
        "3 - Escreva um programa que receba dois números, exiba as opções:\n",
        "1 - adição\n",
        "2 - subtração\n",
        "Então peça ao usuário para escolher uma das opções. Caso escolha a opção 1 o programa\n",
        "deve realizar a soma dos dois números lidos e exibir. Caso escolha a opção 2 o programa\n",
        "deve realizar a subtração dos dois números lidos e exibir."
      ],
      "metadata": {
        "id": "T-IZ411iREwF"
      }
    },
    {
      "cell_type": "code",
      "source": [
        "num1 = float(input('Informe o primeiro numero: '))\n",
        "num2 = float(input('Informe o segundo numero: '))\n",
        "\n",
        "menu = int(input('Escolha a operação: 1 - Para adição ou 2 - Para subtração: '))\n",
        "\n",
        "if menu == 1:\n",
        "  res = num1 + num2\n",
        "  print(f'O resultado da soma entre {num1} e {num2} é: {res}')\n",
        "elif menu == 2:\n",
        "  print(f'O resultado da subtração entre {num1} e {num2} é: {res}')\n",
        "else:\n",
        "  print(f'{menu} é uma opção invalida favor escolher entre a opção 1 e 2')"
      ],
      "metadata": {
        "colab": {
          "base_uri": "https://localhost:8080/"
        },
        "id": "hyLLujRvRGRd",
        "outputId": "d28fe850-d483-4b7d-ecd4-9f0fa33534df"
      },
      "execution_count": null,
      "outputs": [
        {
          "output_type": "stream",
          "name": "stdout",
          "text": [
            "Informe o primeiro numero: 10\n",
            "Informe o segundo numero: 5\n",
            "Escolha a operação: 1 - Para adição ou 2 - Para subtração: 3\n",
            "3 é uma opção invalida favor escolher entre a opção 1 e 2\n"
          ]
        }
      ]
    },
    {
      "cell_type": "markdown",
      "source": [
        "4 - Numa determinada escola, os critérios de aprovação são os seguintes:\n",
        "\n",
        "- O aluno deve ter, no máximo, 25% de faltas;\n",
        "- A nota final deve ser igual ou superior a 7,00.\n",
        "\n",
        "Construa um programa para ler as notas que um aluno tirou nos 4 bimestres, o número total\n",
        "de aulas e o número de faltas, mostrando ao final a situação do aluno como sendo\n",
        "“Aprovado”, “Reprovado por Faltas” e “Reprovado por média”, considerando que a\n",
        "reprovação por faltas se sobrepõe a reprovação por nota."
      ],
      "metadata": {
        "id": "We7eXqf3UQeZ"
      }
    },
    {
      "cell_type": "code",
      "source": [
        "aluno = str(input('Informe o nome do Aluno: '))\n",
        "nota1 = float(input('Informa a nota do primeiro bimestre: '))\n",
        "nota2 = float(input('Informa a nota do segundo bimestre: '))\n",
        "nota3 = float(input('Informa a nota do terceiro bimestre: '))\n",
        "nota4 = float(input('Informa a nota do quarto bimestre: '))\n",
        "aulas = int(input('Informe o número total de aulas: '))\n",
        "faltas = float(input(f'Informe o número total de faltas do {aluno}: '))\n",
        "\n",
        "media = (nota1+nota2+nota3+nota4)/4\n",
        "pres = (aulas-faltas)\n",
        "freq = float(pres/aulas*100)\n",
        "\n",
        "if freq >=25 and media >= 7:\n",
        "  print(f'O {aluno} foi aprovado com media {media} e frequencia de {freq}%')\n",
        "elif freq <25:\n",
        "  print(f'O {aluno} foi reprovado por falta, com frequencia de {freq}%')\n",
        "elif freq >=25 and media < 7:\n",
        "  print(f'O {aluno} foi reprovado , com media {media}')\n"
      ],
      "metadata": {
        "colab": {
          "base_uri": "https://localhost:8080/"
        },
        "id": "IbmscluRUWcb",
        "outputId": "37698025-faed-4b1c-b808-397733b08540"
      },
      "execution_count": null,
      "outputs": [
        {
          "output_type": "stream",
          "name": "stdout",
          "text": [
            "Informe o nome do Aluno: Carlos\n",
            "Informa a nota do primeiro bimestre: 10\n",
            "Informa a nota do segundo bimestre: 10\n",
            "Informa a nota do terceiro bimestre: 10\n",
            "Informa a nota do quarto bimestre: 10\n",
            "Informe o número total de aulas: 10\n",
            "Informe o número total de faltas do Carlos: 10\n",
            "O Carlos foi reprovado por falta, com frequencia de 0.0%\n"
          ]
        }
      ]
    },
    {
      "cell_type": "markdown",
      "source": [
        "5 - Após construir o programa anterior, crie mais duas versões dele para prever as seguintes\n",
        "situações:\n",
        "- Um aluno pode ficar em recuperação se possuir frequência suficiente (superior a\n",
        "75%) e média superior a 5 mas inferior a 7;\n",
        "- Caso um aluno reprove por média e faltas, sua situação deve ser “Reprovado por\n",
        "Média e Faltas” (ao invés de simplesmente “Reprovado por Faltas” como antes).\n"
      ],
      "metadata": {
        "id": "C7TTn7QpbrcC"
      }
    },
    {
      "cell_type": "code",
      "source": [
        "aluno = str(input('Informe o nome do Aluno: '))\n",
        "nota1 = float(input('Informa a nota do primeiro bimestre: '))\n",
        "nota2 = float(input('Informa a nota do segundo bimestre: '))\n",
        "nota3 = float(input('Informa a nota do terceiro bimestre: '))\n",
        "nota4 = float(input('Informa a nota do quarto bimestre: '))\n",
        "aulas = int(input('Informe o número total de aulas: '))\n",
        "faltas = float(input(f'Informe o número total de faltas do {aluno}: '))\n",
        "\n",
        "media = (nota1+nota2+nota3+nota4)/4\n",
        "pres = (aulas-faltas)\n",
        "freq = float(pres/aulas*100)\n",
        "\n",
        "if freq < 25 and media < 7:\n",
        "  print(f'O {aluno} foi reprovado por média e falta')\n",
        "elif freq < 25:\n",
        "  print(f'O {aluno} foi reprovado por falta')\n",
        "elif media < 5:\n",
        "  print(f'O {aluno} foi reprovado , com media {media}')\n",
        "elif media < 7:\n",
        "  print(f'O {aluno} está de recuperação , com media {media}')\n",
        "else:\n",
        "  print(f'O {aluno} foi aprovado , com media {media}')"
      ],
      "metadata": {
        "colab": {
          "base_uri": "https://localhost:8080/"
        },
        "id": "hGwga7-1b0Ek",
        "outputId": "9fe658f3-cfaf-4a77-f7d9-7eb42f4b6ec5"
      },
      "execution_count": null,
      "outputs": [
        {
          "output_type": "stream",
          "name": "stdout",
          "text": [
            "Informe o nome do Aluno: Carlos\n",
            "Informa a nota do primeiro bimestre: 6\n",
            "Informa a nota do segundo bimestre: 6\n",
            "Informa a nota do terceiro bimestre: 6\n",
            "Informa a nota do quarto bimestre: 6\n",
            "Informe o número total de aulas: 10\n",
            "Informe o número total de faltas do Carlos: 0\n",
            "O Carlos está de recuperação , com media 6.0\n"
          ]
        }
      ]
    },
    {
      "cell_type": "markdown",
      "source": [
        "6 - Escreva um programa que peça ao usuário para fornecer um dia, mês e o ano arbitrários\n",
        "e determine se esses dados correspondem a uma data válida. Não deixe de considerar que\n",
        "existem meses com 30 e 31 dias, e que fevereiro pode ter 28 ou 29 dias, dependendo se o\n",
        "ano for bissexto. Considere que um ano é bissexto quando for divisível por 4."
      ],
      "metadata": {
        "id": "bJAnO5kxfsq3"
      }
    },
    {
      "cell_type": "code",
      "source": [
        "dia = int(input('Informe o dia: '))\n",
        "mes = int(input('Informe o mês: '))\n",
        "ano = int(input('Informe o ano: '))\n",
        "\n",
        "if dia < 29 and dia > 0 and mes < 13 and mes > 0:\n",
        "  print(f'A data, {dia}/{mes}/{ano} é válida')\n",
        "elif ano%4 == 0 and dia < 30 and mes < 13 and mes > 0:\n",
        "  print(f'A data, {dia}/{mes}/{ano} é válida')\n",
        "elif mes == 1 or mes == 3 or mes == 7 or mes == 8 or mes == 10 or mes == 12 and dia <= 31:\n",
        "  print(f'A data, {dia}/{mes}/{ano} é válida')\n",
        "elif mes > 0 and mes != 2 and mes < 13 and dia < 31:\n",
        "  print(f'A data, {dia}/{mes}/{ano} é válida')\n",
        "else:\n",
        "  print(f'A data, {dia}/{mes}/{ano} é invalida')\n"
      ],
      "metadata": {
        "colab": {
          "base_uri": "https://localhost:8080/"
        },
        "id": "6jlAK77NfvqD",
        "outputId": "cd485cf4-873a-4e4b-aa4f-5fce0f07329c"
      },
      "execution_count": null,
      "outputs": [
        {
          "output_type": "stream",
          "name": "stdout",
          "text": [
            "Informe o dia: 5\n",
            "Informe o mês: 6\n",
            "Informe o ano: 26\n",
            "A data, 5/6/26 é válida\n"
          ]
        }
      ]
    },
    {
      "cell_type": "markdown",
      "source": [
        "7- Construa um programa que leia uma data qualquer (dia, mês e ano) e calcule a data do\n",
        "próximo dia. Lembre-se que em anos bissextos o mês de fevereiro tem 29 dias. Lembre-se\n",
        "que um ano é bissexto quando for divisível por 4."
      ],
      "metadata": {
        "id": "oKe7vwW0kFtW"
      }
    },
    {
      "cell_type": "code",
      "source": [
        "dia = int(input('Informe o dia: '))\n",
        "mes = int(input('Informe o mês: '))\n",
        "ano = int(input('Informe o ano: '))\n",
        "\n",
        "if mes == 12 and dia == 31:\n",
        "  pdia = 1\n",
        "  pmes = 1\n",
        "  pano = ano+1\n",
        "  print(f'A data, {dia}/{mes}/{ano} é válida e o próximo dia é {pdia}/{pmes}/{pano} ')\n",
        "elif ano%4 == 0 and mes == 2 and dia == 29:\n",
        "  pdia = 1\n",
        "  pmes = mes+1\n",
        "  pano = ano\n",
        "  print(f'A data, {dia}/{mes}/{ano} é válida e o próximo dia é {pdia}/{pmes}/{pano}')\n",
        "elif mes == 2 and dia == 28:\n",
        "  pdia = 1\n",
        "  pmes = mes+1\n",
        "  pano = ano\n",
        "  print(f'A data, {dia}/{mes}/{ano} é válida e o próximo dia é {pdia}/{pmes}/{pano}')\n",
        "elif dia == 30 and (mes == 4 or mes == 5 or mes == 6 or mes == 9 or mes == 11):\n",
        "  pdia = 1\n",
        "  pmes = mes+1\n",
        "  pano = ano\n",
        "  print(f'A data, {dia}/{mes}/{ano} é válida e o próximo dia é {pdia}/{pmes}/{pano} ')\n",
        "elif dia == 31 and (mes == 1 or mes == 3 or mes == 7 or mes == 8 or mes == 10):\n",
        "  pdia = 1\n",
        "  pmes = mes+1\n",
        "  pano = ano\n",
        "  print(f'A data, {dia}/{mes}/{ano} é válida e o próximo dia é {pdia}/{pmes}/{pano} ')\n",
        "elif dia > 0 and dia < 31 and mes > 0 and mes < 13 and mes != 2:\n",
        "  pdia = dia+1\n",
        "  pmes = mes\n",
        "  pano = ano\n",
        "  print(f'A data, {dia}/{mes}/{ano} é válida e o próximo dia é {pdia}/{pmes}/{pano} ')\n",
        "else:\n",
        "  print(f'A data, {dia}/{mes}/{ano} é invalida')\n",
        "\n"
      ],
      "metadata": {
        "id": "AgSZQcYUkKDg",
        "colab": {
          "base_uri": "https://localhost:8080/"
        },
        "outputId": "5a049209-c56e-48e3-d50b-37d6bce78d50"
      },
      "execution_count": null,
      "outputs": [
        {
          "output_type": "stream",
          "name": "stdout",
          "text": [
            "Informe o dia: 30\n",
            "Informe o mês: 3\n",
            "Informe o ano: 2024\n",
            "A data, 30/3/2024 é válida e o próximo dia é 31/3/2024 \n"
          ]
        }
      ]
    },
    {
      "cell_type": "markdown",
      "source": [
        "8 - Faça um programa que leia as duas notas parciais obtidas por um aluno numa\n",
        "disciplina ao longo de um semestre, e calcule a sua média. A atribuição de conceitos\n",
        "obedece à tabela abaixo:\n",
        "Média de Aproveitamento\n",
        "- Entre 9.0 e 10.0 Conceito - A\n",
        "- Entre 7.5 e 8.9 - B\n",
        "- Entre 6.0 e 7.4 - C\n",
        "- Entre 4.0 e 5.9 - D\n",
        "- Entre 0 e 3.9 - E\n",
        "\n",
        "O programa deve mostrar na tela as notas, a média, o conceito correspondente e a\n",
        "mensagem:\n",
        "APROVADO se o conceito for A, B ou C.\n",
        "REPROVADO se o conceito for D ou E."
      ],
      "metadata": {
        "id": "eGAXuLB4ksL6"
      }
    },
    {
      "cell_type": "code",
      "source": [
        "nota1 = float(input('Informe a primeira nota: '))\n",
        "nota2 = float(input('Informe a segunda nota: '))\n",
        "media = (nota1+nota2)/2\n",
        "\n",
        "if media >= 9.0 and media <= 10.0:\n",
        "  con = str('A')\n",
        "elif media >= 7.5 and media <= 8.9:\n",
        "  con = str('B')\n",
        "elif media >= 6.0 and media <= 7.4:\n",
        "  con = str('C')\n",
        "elif media >= 4.0 and media <= 5.9:\n",
        "  con = str('D')\n",
        "elif media >= 0 and media <= 3.9:\n",
        "  con = str('E')\n",
        "\n",
        "if con == 'A' or con == 'B' or con == 'C':\n",
        "  print(f'Sua notas foram: {nota1} e {nota2}')\n",
        "  print(f'Sua média é: {media}, seu conceito é: {con} e você foi Aprovado')\n",
        "else:\n",
        "  print(f'Sua notas foram: {nota1} e {nota2}')\n",
        "  print(f'Sua média é: {media}, seu conceito é: {con} e você foi Reprovado')\n"
      ],
      "metadata": {
        "id": "_oxrI-u5kteK",
        "colab": {
          "base_uri": "https://localhost:8080/"
        },
        "outputId": "090da7e8-68ae-4368-a74b-b712cb141749"
      },
      "execution_count": null,
      "outputs": [
        {
          "output_type": "stream",
          "name": "stdout",
          "text": [
            "Informe a primeira nota: 5\n",
            "Informe a segunda nota: 6\n",
            "Sua notas foram: 5.0 e 6.0\n",
            "Sua média é: 5.5, seu conceito é: D e você foi Reprovado\n"
          ]
        }
      ]
    },
    {
      "cell_type": "markdown",
      "source": [
        "9 - As Organizações XTC resolveram dar um aumento de salário aos seus colaboradores e\n",
        "lhe contrataram para desenvolver o programa que calcula os reajustes. Faça um programa\n",
        "que recebe o salário de um colaborador e o reajuste segundo o seguinte critério, baseado no salário atual:\n",
        "\n",
        "*    salários até RS 280,00 (incluindo): aumento de 20%\n",
        "*    salários entre RS 280,00 e RS 700,00: aumento de 15%\n",
        "*    salários entre RS 700,00 e RS 1500,00: aumento de 10%\n",
        "*    salários de RS 1500,00 em diante: aumento de 5%\n",
        "\n",
        "Após o aumento ser realizado informe na tela:\n",
        "\n",
        "* o salário antes do reajuste;\n",
        "* o percentual de aumento aplicado;\n",
        "* o valor do aumento;\n",
        "* o novo salário, após o aumento.\n",
        "\n"
      ],
      "metadata": {
        "id": "uzlbYOw6jafq"
      }
    },
    {
      "cell_type": "code",
      "source": [
        "salario = float(input('Informe seu salario: '))\n",
        "\n",
        "if salario <= 280.00:\n",
        "  ajuste = (salario*0.2)\n",
        "  aumento = salario + ajuste\n",
        "  print(f'Seu salário é R$:{salario}')\n",
        "  print(f'Seu salário será aumentado em 20% ou seja R$:{ajuste}')\n",
        "  print(f'Após ajuste seu salário será de R$:{aumento}')\n",
        "elif salario > 280.00 and  salario <= 700.00:\n",
        "  ajuste = (salario*0.15)\n",
        "  aumento = salario + ajuste\n",
        "  print(f'Seu salário é R$:{salario}')\n",
        "  print(f'Seu salário será aumentado em 15% ou seja R$:{ajuste}')\n",
        "  print(f'Após ajuste seu salário será de R$:{aumento}')\n",
        "elif salario > 700.00 and salario < 1500.00:\n",
        "  ajuste = (salario*0.10)\n",
        "  aumento = salario + ajuste\n",
        "  print(f'Seu salário é R$:{salario}')\n",
        "  print(f'Seu salário será aumentado em 10% ou seja R$:{ajuste}')\n",
        "  print(f'Após ajuste seu salário será de R$:{aumento}')\n",
        "elif salario >= 1500.00:\n",
        "  ajuste = (salario*0.5)\n",
        "  aumento = salario + ajuste\n",
        "  print(f'Seu salário é R$:{salario}')\n",
        "  print(f'Seu salário será ajustado em 5% ou seja R$:{ajuste}')\n",
        "  print(f'Após aumento seu salário será de R$:{aumento}')"
      ],
      "metadata": {
        "colab": {
          "base_uri": "https://localhost:8080/"
        },
        "id": "ThDJpsGqlpht",
        "outputId": "3b6fea5b-5638-4e66-f21e-5abd43dbd3d9"
      },
      "execution_count": null,
      "outputs": [
        {
          "output_type": "stream",
          "name": "stdout",
          "text": [
            "Informe seu salario: 700\n",
            "Seu salário é R$:700.0\n",
            "Seu salário será aumentado em 15% ou seja R$:105.0\n",
            "Após ajuste seu salário será de R$:805.0\n"
          ]
        }
      ]
    },
    {
      "cell_type": "markdown",
      "source": [],
      "metadata": {
        "id": "50fQ0fiGp16I"
      }
    }
  ]
}